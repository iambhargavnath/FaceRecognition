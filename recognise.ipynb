{
 "cells": [
  {
   "cell_type": "code",
   "execution_count": 28,
   "metadata": {},
   "outputs": [],
   "source": [
    "import face_recognition"
   ]
  },
  {
   "cell_type": "code",
   "execution_count": 29,
   "metadata": {},
   "outputs": [],
   "source": [
    "image1_path = \"input/image1.jpg\"\n",
    "image2_path = \"input/image2.jpg\""
   ]
  },
  {
   "cell_type": "code",
   "execution_count": 30,
   "metadata": {},
   "outputs": [],
   "source": [
    "image1 = face_recognition.load_image_file(image1_path)\n",
    "image1_encoding = face_recognition.face_encodings(image1)[0]"
   ]
  },
  {
   "cell_type": "code",
   "execution_count": 31,
   "metadata": {},
   "outputs": [],
   "source": [
    "image2 = face_recognition.load_image_file(image2_path)\n",
    "image2_encoding = face_recognition.face_encodings(image2)[0]"
   ]
  },
  {
   "cell_type": "code",
   "execution_count": 32,
   "metadata": {},
   "outputs": [],
   "source": [
    "results = face_recognition.compare_faces([image1_encoding], image2_encoding)\n",
    "face_distance = face_recognition.face_distance([image1_encoding], image2_encoding)[0]"
   ]
  },
  {
   "cell_type": "code",
   "execution_count": 33,
   "metadata": {},
   "outputs": [
    {
     "name": "stdout",
     "output_type": "stream",
     "text": [
      "The faces match! (Distance: 0.00)\n"
     ]
    }
   ],
   "source": [
    "if results[0]:\n",
    "    print(f\"The faces match! (Distance: {face_distance:.2f})\")\n",
    "else:\n",
    "    print(f\"The faces do not match. (Distance: {face_distance:.2f})\")"
   ]
  }
 ],
 "metadata": {
  "kernelspec": {
   "display_name": "Python 3",
   "language": "python",
   "name": "python3"
  },
  "language_info": {
   "codemirror_mode": {
    "name": "ipython",
    "version": 3
   },
   "file_extension": ".py",
   "mimetype": "text/x-python",
   "name": "python",
   "nbconvert_exporter": "python",
   "pygments_lexer": "ipython3",
   "version": "3.12.7"
  }
 },
 "nbformat": 4,
 "nbformat_minor": 2
}
